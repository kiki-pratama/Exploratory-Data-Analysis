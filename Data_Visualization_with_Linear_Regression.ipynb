{
  "nbformat": 4,
  "nbformat_minor": 0,
  "metadata": {
    "colab": {
      "name": "Data Visualization with Linear Regression ",
      "provenance": [],
      "collapsed_sections": []
    },
    "kernelspec": {
      "name": "python3",
      "display_name": "Python 3"
    },
    "language_info": {
      "name": "python"
    }
  },
  "cells": [
    {
      "cell_type": "code",
      "execution_count": null,
      "metadata": {
        "colab": {
          "base_uri": "https://localhost:8080/",
          "height": 424
        },
        "id": "HK9Old6P1tnG",
        "outputId": "d7eb666c-1e8e-44b0-824f-5dc729c4cafb"
      },
      "outputs": [
        {
          "output_type": "execute_result",
          "data": {
            "text/plain": [
              "       InvoiceNo  StockCode  Qty      InvoiceDate  CustomerID  \\\n",
              "0         537626      22725  830  12/7/2010 14:57       12347   \n",
              "1         537626      22729  948  12/7/2010 14:57       12347   \n",
              "2         537626      22195  695  12/7/2010 14:57       12347   \n",
              "3         542237      22725  636  1/26/2011 14:30       12347   \n",
              "4         542237      22729  536  1/26/2011 14:30       12347   \n",
              "...          ...        ...  ...              ...         ...   \n",
              "10541     543911      21700  455  2/14/2011 12:46       17829   \n",
              "10542     543911      22111  578  2/14/2011 12:46       17829   \n",
              "10543     543911      22112  163  2/14/2011 12:46       17829   \n",
              "10544     564428      23296  545  8/25/2011 11:27       17844   \n",
              "10545     564428      23294  643  8/25/2011 11:27       17844   \n",
              "\n",
              "                    Country  \n",
              "0                   Iceland  \n",
              "1                   Iceland  \n",
              "2                   Iceland  \n",
              "3                   Iceland  \n",
              "4                   Iceland  \n",
              "...                     ...  \n",
              "10541  United Arab Emirates  \n",
              "10542  United Arab Emirates  \n",
              "10543  United Arab Emirates  \n",
              "10544                Canada  \n",
              "10545                Canada  \n",
              "\n",
              "[10546 rows x 6 columns]"
            ],
            "text/html": [
              "\n",
              "  <div id=\"df-7e9377ee-0e88-4331-9e0e-f1febc8e34d6\">\n",
              "    <div class=\"colab-df-container\">\n",
              "      <div>\n",
              "<style scoped>\n",
              "    .dataframe tbody tr th:only-of-type {\n",
              "        vertical-align: middle;\n",
              "    }\n",
              "\n",
              "    .dataframe tbody tr th {\n",
              "        vertical-align: top;\n",
              "    }\n",
              "\n",
              "    .dataframe thead th {\n",
              "        text-align: right;\n",
              "    }\n",
              "</style>\n",
              "<table border=\"1\" class=\"dataframe\">\n",
              "  <thead>\n",
              "    <tr style=\"text-align: right;\">\n",
              "      <th></th>\n",
              "      <th>InvoiceNo</th>\n",
              "      <th>StockCode</th>\n",
              "      <th>Qty</th>\n",
              "      <th>InvoiceDate</th>\n",
              "      <th>CustomerID</th>\n",
              "      <th>Country</th>\n",
              "    </tr>\n",
              "  </thead>\n",
              "  <tbody>\n",
              "    <tr>\n",
              "      <th>0</th>\n",
              "      <td>537626</td>\n",
              "      <td>22725</td>\n",
              "      <td>830</td>\n",
              "      <td>12/7/2010 14:57</td>\n",
              "      <td>12347</td>\n",
              "      <td>Iceland</td>\n",
              "    </tr>\n",
              "    <tr>\n",
              "      <th>1</th>\n",
              "      <td>537626</td>\n",
              "      <td>22729</td>\n",
              "      <td>948</td>\n",
              "      <td>12/7/2010 14:57</td>\n",
              "      <td>12347</td>\n",
              "      <td>Iceland</td>\n",
              "    </tr>\n",
              "    <tr>\n",
              "      <th>2</th>\n",
              "      <td>537626</td>\n",
              "      <td>22195</td>\n",
              "      <td>695</td>\n",
              "      <td>12/7/2010 14:57</td>\n",
              "      <td>12347</td>\n",
              "      <td>Iceland</td>\n",
              "    </tr>\n",
              "    <tr>\n",
              "      <th>3</th>\n",
              "      <td>542237</td>\n",
              "      <td>22725</td>\n",
              "      <td>636</td>\n",
              "      <td>1/26/2011 14:30</td>\n",
              "      <td>12347</td>\n",
              "      <td>Iceland</td>\n",
              "    </tr>\n",
              "    <tr>\n",
              "      <th>4</th>\n",
              "      <td>542237</td>\n",
              "      <td>22729</td>\n",
              "      <td>536</td>\n",
              "      <td>1/26/2011 14:30</td>\n",
              "      <td>12347</td>\n",
              "      <td>Iceland</td>\n",
              "    </tr>\n",
              "    <tr>\n",
              "      <th>...</th>\n",
              "      <td>...</td>\n",
              "      <td>...</td>\n",
              "      <td>...</td>\n",
              "      <td>...</td>\n",
              "      <td>...</td>\n",
              "      <td>...</td>\n",
              "    </tr>\n",
              "    <tr>\n",
              "      <th>10541</th>\n",
              "      <td>543911</td>\n",
              "      <td>21700</td>\n",
              "      <td>455</td>\n",
              "      <td>2/14/2011 12:46</td>\n",
              "      <td>17829</td>\n",
              "      <td>United Arab Emirates</td>\n",
              "    </tr>\n",
              "    <tr>\n",
              "      <th>10542</th>\n",
              "      <td>543911</td>\n",
              "      <td>22111</td>\n",
              "      <td>578</td>\n",
              "      <td>2/14/2011 12:46</td>\n",
              "      <td>17829</td>\n",
              "      <td>United Arab Emirates</td>\n",
              "    </tr>\n",
              "    <tr>\n",
              "      <th>10543</th>\n",
              "      <td>543911</td>\n",
              "      <td>22112</td>\n",
              "      <td>163</td>\n",
              "      <td>2/14/2011 12:46</td>\n",
              "      <td>17829</td>\n",
              "      <td>United Arab Emirates</td>\n",
              "    </tr>\n",
              "    <tr>\n",
              "      <th>10544</th>\n",
              "      <td>564428</td>\n",
              "      <td>23296</td>\n",
              "      <td>545</td>\n",
              "      <td>8/25/2011 11:27</td>\n",
              "      <td>17844</td>\n",
              "      <td>Canada</td>\n",
              "    </tr>\n",
              "    <tr>\n",
              "      <th>10545</th>\n",
              "      <td>564428</td>\n",
              "      <td>23294</td>\n",
              "      <td>643</td>\n",
              "      <td>8/25/2011 11:27</td>\n",
              "      <td>17844</td>\n",
              "      <td>Canada</td>\n",
              "    </tr>\n",
              "  </tbody>\n",
              "</table>\n",
              "<p>10546 rows × 6 columns</p>\n",
              "</div>\n",
              "      <button class=\"colab-df-convert\" onclick=\"convertToInteractive('df-7e9377ee-0e88-4331-9e0e-f1febc8e34d6')\"\n",
              "              title=\"Convert this dataframe to an interactive table.\"\n",
              "              style=\"display:none;\">\n",
              "        \n",
              "  <svg xmlns=\"http://www.w3.org/2000/svg\" height=\"24px\"viewBox=\"0 0 24 24\"\n",
              "       width=\"24px\">\n",
              "    <path d=\"M0 0h24v24H0V0z\" fill=\"none\"/>\n",
              "    <path d=\"M18.56 5.44l.94 2.06.94-2.06 2.06-.94-2.06-.94-.94-2.06-.94 2.06-2.06.94zm-11 1L8.5 8.5l.94-2.06 2.06-.94-2.06-.94L8.5 2.5l-.94 2.06-2.06.94zm10 10l.94 2.06.94-2.06 2.06-.94-2.06-.94-.94-2.06-.94 2.06-2.06.94z\"/><path d=\"M17.41 7.96l-1.37-1.37c-.4-.4-.92-.59-1.43-.59-.52 0-1.04.2-1.43.59L10.3 9.45l-7.72 7.72c-.78.78-.78 2.05 0 2.83L4 21.41c.39.39.9.59 1.41.59.51 0 1.02-.2 1.41-.59l7.78-7.78 2.81-2.81c.8-.78.8-2.07 0-2.86zM5.41 20L4 18.59l7.72-7.72 1.47 1.35L5.41 20z\"/>\n",
              "  </svg>\n",
              "      </button>\n",
              "      \n",
              "  <style>\n",
              "    .colab-df-container {\n",
              "      display:flex;\n",
              "      flex-wrap:wrap;\n",
              "      gap: 12px;\n",
              "    }\n",
              "\n",
              "    .colab-df-convert {\n",
              "      background-color: #E8F0FE;\n",
              "      border: none;\n",
              "      border-radius: 50%;\n",
              "      cursor: pointer;\n",
              "      display: none;\n",
              "      fill: #1967D2;\n",
              "      height: 32px;\n",
              "      padding: 0 0 0 0;\n",
              "      width: 32px;\n",
              "    }\n",
              "\n",
              "    .colab-df-convert:hover {\n",
              "      background-color: #E2EBFA;\n",
              "      box-shadow: 0px 1px 2px rgba(60, 64, 67, 0.3), 0px 1px 3px 1px rgba(60, 64, 67, 0.15);\n",
              "      fill: #174EA6;\n",
              "    }\n",
              "\n",
              "    [theme=dark] .colab-df-convert {\n",
              "      background-color: #3B4455;\n",
              "      fill: #D2E3FC;\n",
              "    }\n",
              "\n",
              "    [theme=dark] .colab-df-convert:hover {\n",
              "      background-color: #434B5C;\n",
              "      box-shadow: 0px 1px 3px 1px rgba(0, 0, 0, 0.15);\n",
              "      filter: drop-shadow(0px 1px 2px rgba(0, 0, 0, 0.3));\n",
              "      fill: #FFFFFF;\n",
              "    }\n",
              "  </style>\n",
              "\n",
              "      <script>\n",
              "        const buttonEl =\n",
              "          document.querySelector('#df-7e9377ee-0e88-4331-9e0e-f1febc8e34d6 button.colab-df-convert');\n",
              "        buttonEl.style.display =\n",
              "          google.colab.kernel.accessAllowed ? 'block' : 'none';\n",
              "\n",
              "        async function convertToInteractive(key) {\n",
              "          const element = document.querySelector('#df-7e9377ee-0e88-4331-9e0e-f1febc8e34d6');\n",
              "          const dataTable =\n",
              "            await google.colab.kernel.invokeFunction('convertToInteractive',\n",
              "                                                     [key], {});\n",
              "          if (!dataTable) return;\n",
              "\n",
              "          const docLinkHtml = 'Like what you see? Visit the ' +\n",
              "            '<a target=\"_blank\" href=https://colab.research.google.com/notebooks/data_table.ipynb>data table notebook</a>'\n",
              "            + ' to learn more about interactive tables.';\n",
              "          element.innerHTML = '';\n",
              "          dataTable['output_type'] = 'display_data';\n",
              "          await google.colab.output.renderOutput(dataTable, element);\n",
              "          const docLink = document.createElement('div');\n",
              "          docLink.innerHTML = docLinkHtml;\n",
              "          element.appendChild(docLink);\n",
              "        }\n",
              "      </script>\n",
              "    </div>\n",
              "  </div>\n",
              "  "
            ]
          },
          "metadata": {},
          "execution_count": 8
        }
      ],
      "source": [
        "import pandas as pd\n",
        "\n",
        "dataset = pd.read_csv('/content/drive/MyDrive/Data_mining/data/transaction.csv')\n",
        "dataset"
      ]
    },
    {
      "cell_type": "code",
      "source": [
        "totalQty = data.groupby(['Month'])['Qty'].sum()\n",
        "totalQty"
      ],
      "metadata": {
        "colab": {
          "base_uri": "https://localhost:8080/"
        },
        "id": "DT-5doZ_M1Jv",
        "outputId": "630abed8-8962-44f9-ac4d-8dc42d0539a2"
      },
      "execution_count": null,
      "outputs": [
        {
          "output_type": "execute_result",
          "data": {
            "text/plain": [
              "Month\n",
              "1     101266\n",
              "2      37800\n",
              "3      72084\n",
              "4      60993\n",
              "5     103749\n",
              "6      79711\n",
              "7      96423\n",
              "8     120908\n",
              "9     104487\n",
              "10    159490\n",
              "11    143409\n",
              "12     33126\n",
              "Name: Qty, dtype: int64"
            ]
          },
          "metadata": {},
          "execution_count": 11
        }
      ]
    },
    {
      "cell_type": "code",
      "source": [
        "import numpy as np\n",
        "from matplotlib import pyplot as plt\n",
        "\n",
        "month = data['Month'].unique()\n",
        "month = np.sort(month)\n",
        "plt.figure(figsize=(18, 8))\n",
        "plt.title('TotalQty Movement')\n",
        "plt.xlabel('Month')\n",
        "plt.ylabel('Total Qty')\n",
        "plt.scatter(month, totalQty)"
      ],
      "metadata": {
        "colab": {
          "base_uri": "https://localhost:8080/",
          "height": 532
        },
        "id": "SdN6ZoZbNAQp",
        "outputId": "0ebc5a1f-a46e-4762-965f-5c3e8be2d41b"
      },
      "execution_count": null,
      "outputs": [
        {
          "output_type": "execute_result",
          "data": {
            "text/plain": [
              "<matplotlib.collections.PathCollection at 0x7f3c1ca97150>"
            ]
          },
          "metadata": {},
          "execution_count": 12
        },
        {
          "output_type": "display_data",
          "data": {
            "text/plain": [
              "<Figure size 1296x576 with 1 Axes>"
            ],
            "image/png": "[encoded data removed]"
          },
          "metadata": {
            "needs_background": "light"
          }
        }
      ]
    },
    {
      "cell_type": "code",
      "source": [
        "from sklearn.linear_model import LinearRegression\n",
        "from sklearn.metrics import mean_squared_error\n",
        "x = month\n",
        "y = totalQty.values\n",
        "plt.scatter(x, y)\n",
        "plt.plot(x, y)\n",
        "plt.xlabel('x')\n",
        "plt.ylabel('y')\n",
        "linreg=LinearRegression()\n",
        "x=np.array(x).reshape(-1,1)\n",
        "linreg.fit(x, y)\n",
        "nextMonth=13\n",
        "nextMonth=np.array(nextMonth).reshape(-1,1)\n",
        "predictedQty=linreg.predict(nextMonth)\n",
        "print('\\nPredicted Qty : ', predictedQty.item())\n",
        "\n",
        "plt.scatter(nextMonth, predictedQty, c='red')\n",
        "pred_y=linreg.predict(x)\n",
        "plt.plot(x, pred_y)\n",
        "plt.show()\n",
        "\n",
        "MSE=mean_squared_error(y,pred_y)\n",
        "print('\\nMSE = ', MSE)"
      ],
      "metadata": {
        "colab": {
          "base_uri": "https://localhost:8080/",
          "height": 354
        },
        "id": "JRyUL6OQNcXt",
        "outputId": "dc99208e-8698-44d0-edb7-d1f1b20b1390"
      },
      "execution_count": null,
      "outputs": [
        {
          "output_type": "stream",
          "name": "stdout",
          "text": [
            "\n",
            "Predicted Qty :  117751.75757575757\n"
          ]
        },
        {
          "output_type": "display_data",
          "data": {
            "text/plain": [
              "<Figure size 432x288 with 1 Axes>"
            ],
            "image/png": "[encoded data removed]"
          },
          "metadata": {
            "needs_background": "light"
          }
        },
        {
          "output_type": "stream",
          "name": "stdout",
          "text": [
            "\n",
            "MSE =  1185741672.8609169\n"
          ]
        }
      ]
    }
  ]
}