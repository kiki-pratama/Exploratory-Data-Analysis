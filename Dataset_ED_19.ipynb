{
  "nbformat": 4,
  "nbformat_minor": 0,
  "metadata": {
    "colab": {
      "name": "Dataset ED_19",
      "provenance": [],
      "collapsed_sections": []
    },
    "kernelspec": {
      "name": "python3",
      "display_name": "Python 3"
    },
    "language_info": {
      "name": "python"
    }
  },
  "cells": [
    {
      "cell_type": "code",
      "execution_count": null,
      "metadata": {
        "id": "IkzfEF9gkOH0"
      },
      "outputs": [],
      "source": [
        "import pandas as pd\n",
        "import numpy as np\n",
        "import matplotlib.pyplot as plt\n",
        "%matplotlib inline "
      ]
    },
    {
      "cell_type": "code",
      "source": [
        "from google.colab import drive\n",
        "drive.mount('/content/drive')"
      ],
      "metadata": {
        "id": "IRzGDoipkQVr",
        "colab": {
          "base_uri": "https://localhost:8080/"
        },
        "outputId": "e027be6c-bcd3-40ba-ef25-e50129d1968b"
      },
      "execution_count": null,
      "outputs": [
        {
          "output_type": "stream",
          "name": "stdout",
          "text": [
            "Mounted at /content/drive\n"
          ]
        }
      ]
    },
    {
      "cell_type": "markdown",
      "source": [
        "## Import Dataset"
      ],
      "metadata": {
        "id": "Z8pHtMqoLGb-"
      }
    },
    {
      "cell_type": "code",
      "source": [
        "df = pd.read_csv(\"/content/drive/MyDrive/Capstone/Dataset/DATA FINAL DA_ED19.csv\", sep=';')\n",
        "df.head()"
      ],
      "metadata": {
        "colab": {
          "base_uri": "https://localhost:8080/",
          "height": 206
        },
        "id": "GsYjKQsmBh3f",
        "outputId": "9c6b5244-adf5-425f-b10d-812a2874eb3a"
      },
      "execution_count": null,
      "outputs": [
        {
          "output_type": "execute_result",
          "data": {
            "text/plain": [
              "   kode univ         Nama Universitas  kode prodi               nama prodi  \\\n",
              "0        111  UNIVERSITAS SYIAH KUALA     1111014  PENDIDIKAN DOKTER HEWAN   \n",
              "1        111  UNIVERSITAS SYIAH KUALA     1111022             TEKNIK SIPIL   \n",
              "2        111  UNIVERSITAS SYIAH KUALA     1111037             TEKNIK MESIN   \n",
              "3        111  UNIVERSITAS SYIAH KUALA     1111045             TEKNIK KIMIA   \n",
              "4        111  UNIVERSITAS SYIAH KUALA     1111053               ARSITEKTUR   \n",
              "\n",
              "  jenjang    jenis  Daya Tampung 2022 jenis portofolio  Tahun Provinsi  \\\n",
              "0      S1  SAINTEK                 99        Tidak Ada   2017     Aceh   \n",
              "1      S1  SAINTEK                 81        Tidak Ada   2017     Aceh   \n",
              "2      S1  SAINTEK                 63        Tidak Ada   2017     Aceh   \n",
              "3      S1  SAINTEK                 63        Tidak Ada   2017     Aceh   \n",
              "4      S1  SAINTEK                 63        Tidak Ada   2017     Aceh   \n",
              "\n",
              "   Peminat  Daya Tampung  \n",
              "0      364            88  \n",
              "1     1556            64  \n",
              "2      556            48  \n",
              "3      251            48  \n",
              "4      725            48  "
            ],
            "text/html": [
              "\n",
              "  <div id=\"df-148f673b-2ff4-4560-ad8c-1a153ad5a4ba\">\n",
              "    <div class=\"colab-df-container\">\n",
              "      <div>\n",
              "<style scoped>\n",
              "    .dataframe tbody tr th:only-of-type {\n",
              "        vertical-align: middle;\n",
              "    }\n",
              "\n",
              "    .dataframe tbody tr th {\n",
              "        vertical-align: top;\n",
              "    }\n",
              "\n",
              "    .dataframe thead th {\n",
              "        text-align: right;\n",
              "    }\n",
              "</style>\n",
              "<table border=\"1\" class=\"dataframe\">\n",
              "  <thead>\n",
              "    <tr style=\"text-align: right;\">\n",
              "      <th></th>\n",
              "      <th>kode univ</th>\n",
              "      <th>Nama Universitas</th>\n",
              "      <th>kode prodi</th>\n",
              "      <th>nama prodi</th>\n",
              "      <th>jenjang</th>\n",
              "      <th>jenis</th>\n",
              "      <th>Daya Tampung 2022</th>\n",
              "      <th>jenis portofolio</th>\n",
              "      <th>Tahun</th>\n",
              "      <th>Provinsi</th>\n",
              "      <th>Peminat</th>\n",
              "      <th>Daya Tampung</th>\n",
              "    </tr>\n",
              "  </thead>\n",
              "  <tbody>\n",
              "    <tr>\n",
              "      <th>0</th>\n",
              "      <td>111</td>\n",
              "      <td>UNIVERSITAS SYIAH KUALA</td>\n",
              "      <td>1111014</td>\n",
              "      <td>PENDIDIKAN DOKTER HEWAN</td>\n",
              "      <td>S1</td>\n",
              "      <td>SAINTEK</td>\n",
              "      <td>99</td>\n",
              "      <td>Tidak Ada</td>\n",
              "      <td>2017</td>\n",
              "      <td>Aceh</td>\n",
              "      <td>364</td>\n",
              "      <td>88</td>\n",
              "    </tr>\n",
              "    <tr>\n",
              "      <th>1</th>\n",
              "      <td>111</td>\n",
              "      <td>UNIVERSITAS SYIAH KUALA</td>\n",
              "      <td>1111022</td>\n",
              "      <td>TEKNIK SIPIL</td>\n",
              "      <td>S1</td>\n",
              "      <td>SAINTEK</td>\n",
              "      <td>81</td>\n",
              "      <td>Tidak Ada</td>\n",
              "      <td>2017</td>\n",
              "      <td>Aceh</td>\n",
              "      <td>1556</td>\n",
              "      <td>64</td>\n",
              "    </tr>\n",
              "    <tr>\n",
              "      <th>2</th>\n",
              "      <td>111</td>\n",
              "      <td>UNIVERSITAS SYIAH KUALA</td>\n",
              "      <td>1111037</td>\n",
              "      <td>TEKNIK MESIN</td>\n",
              "      <td>S1</td>\n",
              "      <td>SAINTEK</td>\n",
              "      <td>63</td>\n",
              "      <td>Tidak Ada</td>\n",
              "      <td>2017</td>\n",
              "      <td>Aceh</td>\n",
              "      <td>556</td>\n",
              "      <td>48</td>\n",
              "    </tr>\n",
              "    <tr>\n",
              "      <th>3</th>\n",
              "      <td>111</td>\n",
              "      <td>UNIVERSITAS SYIAH KUALA</td>\n",
              "      <td>1111045</td>\n",
              "      <td>TEKNIK KIMIA</td>\n",
              "      <td>S1</td>\n",
              "      <td>SAINTEK</td>\n",
              "      <td>63</td>\n",
              "      <td>Tidak Ada</td>\n",
              "      <td>2017</td>\n",
              "      <td>Aceh</td>\n",
              "      <td>251</td>\n",
              "      <td>48</td>\n",
              "    </tr>\n",
              "    <tr>\n",
              "      <th>4</th>\n",
              "      <td>111</td>\n",
              "      <td>UNIVERSITAS SYIAH KUALA</td>\n",
              "      <td>1111053</td>\n",
              "      <td>ARSITEKTUR</td>\n",
              "      <td>S1</td>\n",
              "      <td>SAINTEK</td>\n",
              "      <td>63</td>\n",
              "      <td>Tidak Ada</td>\n",
              "      <td>2017</td>\n",
              "      <td>Aceh</td>\n",
              "      <td>725</td>\n",
              "      <td>48</td>\n",
              "    </tr>\n",
              "  </tbody>\n",
              "</table>\n",
              "</div>\n",
              "      <button class=\"colab-df-convert\" onclick=\"convertToInteractive('df-148f673b-2ff4-4560-ad8c-1a153ad5a4ba')\"\n",
              "              title=\"Convert this dataframe to an interactive table.\"\n",
              "              style=\"display:none;\">\n",
              "        \n",
              "  <svg xmlns=\"http://www.w3.org/2000/svg\" height=\"24px\"viewBox=\"0 0 24 24\"\n",
              "       width=\"24px\">\n",
              "    <path d=\"M0 0h24v24H0V0z\" fill=\"none\"/>\n",
              "    <path d=\"M18.56 5.44l.94 2.06.94-2.06 2.06-.94-2.06-.94-.94-2.06-.94 2.06-2.06.94zm-11 1L8.5 8.5l.94-2.06 2.06-.94-2.06-.94L8.5 2.5l-.94 2.06-2.06.94zm10 10l.94 2.06.94-2.06 2.06-.94-2.06-.94-.94-2.06-.94 2.06-2.06.94z\"/><path d=\"M17.41 7.96l-1.37-1.37c-.4-.4-.92-.59-1.43-.59-.52 0-1.04.2-1.43.59L10.3 9.45l-7.72 7.72c-.78.78-.78 2.05 0 2.83L4 21.41c.39.39.9.59 1.41.59.51 0 1.02-.2 1.41-.59l7.78-7.78 2.81-2.81c.8-.78.8-2.07 0-2.86zM5.41 20L4 18.59l7.72-7.72 1.47 1.35L5.41 20z\"/>\n",
              "  </svg>\n",
              "      </button>\n",
              "      \n",
              "  <style>\n",
              "    .colab-df-container {\n",
              "      display:flex;\n",
              "      flex-wrap:wrap;\n",
              "      gap: 12px;\n",
              "    }\n",
              "\n",
              "    .colab-df-convert {\n",
              "      background-color: #E8F0FE;\n",
              "      border: none;\n",
              "      border-radius: 50%;\n",
              "      cursor: pointer;\n",
              "      display: none;\n",
              "      fill: #1967D2;\n",
              "      height: 32px;\n",
              "      padding: 0 0 0 0;\n",
              "      width: 32px;\n",
              "    }\n",
              "\n",
              "    .colab-df-convert:hover {\n",
              "      background-color: #E2EBFA;\n",
              "      box-shadow: 0px 1px 2px rgba(60, 64, 67, 0.3), 0px 1px 3px 1px rgba(60, 64, 67, 0.15);\n",
              "      fill: #174EA6;\n",
              "    }\n",
              "\n",
              "    [theme=dark] .colab-df-convert {\n",
              "      background-color: #3B4455;\n",
              "      fill: #D2E3FC;\n",
              "    }\n",
              "\n",
              "    [theme=dark] .colab-df-convert:hover {\n",
              "      background-color: #434B5C;\n",
              "      box-shadow: 0px 1px 3px 1px rgba(0, 0, 0, 0.15);\n",
              "      filter: drop-shadow(0px 1px 2px rgba(0, 0, 0, 0.3));\n",
              "      fill: #FFFFFF;\n",
              "    }\n",
              "  </style>\n",
              "\n",
              "      <script>\n",
              "        const buttonEl =\n",
              "          document.querySelector('#df-148f673b-2ff4-4560-ad8c-1a153ad5a4ba button.colab-df-convert');\n",
              "        buttonEl.style.display =\n",
              "          google.colab.kernel.accessAllowed ? 'block' : 'none';\n",
              "\n",
              "        async function convertToInteractive(key) {\n",
              "          const element = document.querySelector('#df-148f673b-2ff4-4560-ad8c-1a153ad5a4ba');\n",
              "          const dataTable =\n",
              "            await google.colab.kernel.invokeFunction('convertToInteractive',\n",
              "                                                     [key], {});\n",
              "          if (!dataTable) return;\n",
              "\n",
              "          const docLinkHtml = 'Like what you see? Visit the ' +\n",
              "            '<a target=\"_blank\" href=https://colab.research.google.com/notebooks/data_table.ipynb>data table notebook</a>'\n",
              "            + ' to learn more about interactive tables.';\n",
              "          element.innerHTML = '';\n",
              "          dataTable['output_type'] = 'display_data';\n",
              "          await google.colab.output.renderOutput(dataTable, element);\n",
              "          const docLink = document.createElement('div');\n",
              "          docLink.innerHTML = docLinkHtml;\n",
              "          element.appendChild(docLink);\n",
              "        }\n",
              "      </script>\n",
              "    </div>\n",
              "  </div>\n",
              "  "
            ]
          },
          "metadata": {},
          "execution_count": 18
        }
      ]
    },
    {
      "cell_type": "code",
      "source": [
        "df.describe()"
      ],
      "metadata": {
        "colab": {
          "base_uri": "https://localhost:8080/",
          "height": 300
        },
        "id": "jUi4t3A66ocU",
        "outputId": "5730f316-9bf5-4ad7-87bd-269f4b240cc6"
      },
      "execution_count": null,
      "outputs": [
        {
          "output_type": "execute_result",
          "data": {
            "text/plain": [
              "           kode univ    kode prodi  Daya Tampung 2022          Tahun  \\\n",
              "count  536690.000000  5.366900e+05      536690.000000  536690.000000   \n",
              "mean      421.504276  4.216655e+06          55.283180    2019.000000   \n",
              "std       223.975213  2.239748e+06          39.850466       1.414215   \n",
              "min       111.000000  1.111014e+06           6.000000    2017.000000   \n",
              "25%       321.000000  3.211166e+06          32.000000    2018.000000   \n",
              "50%       362.000000  3.622257e+06          48.000000    2019.000000   \n",
              "75%       612.000000  6.121167e+06          66.000000    2020.000000   \n",
              "max       921.000000  9.212073e+06         582.000000    2021.000000   \n",
              "\n",
              "             Peminat   Daya Tampung  \n",
              "count  536690.000000  536690.000000  \n",
              "mean       16.806382      52.880710  \n",
              "std       101.560515      37.948984  \n",
              "min         0.000000       0.000000  \n",
              "25%         0.000000      31.000000  \n",
              "50%         0.000000      44.000000  \n",
              "75%         2.000000      64.000000  \n",
              "max      3791.000000     528.000000  "
            ],
            "text/html": [
              "\n",
              "  <div id=\"df-120f64e0-e728-4211-846c-82a1b5aac261\">\n",
              "    <div class=\"colab-df-container\">\n",
              "      <div>\n",
              "<style scoped>\n",
              "    .dataframe tbody tr th:only-of-type {\n",
              "        vertical-align: middle;\n",
              "    }\n",
              "\n",
              "    .dataframe tbody tr th {\n",
              "        vertical-align: top;\n",
              "    }\n",
              "\n",
              "    .dataframe thead th {\n",
              "        text-align: right;\n",
              "    }\n",
              "</style>\n",
              "<table border=\"1\" class=\"dataframe\">\n",
              "  <thead>\n",
              "    <tr style=\"text-align: right;\">\n",
              "      <th></th>\n",
              "      <th>kode univ</th>\n",
              "      <th>kode prodi</th>\n",
              "      <th>Daya Tampung 2022</th>\n",
              "      <th>Tahun</th>\n",
              "      <th>Peminat</th>\n",
              "      <th>Daya Tampung</th>\n",
              "    </tr>\n",
              "  </thead>\n",
              "  <tbody>\n",
              "    <tr>\n",
              "      <th>count</th>\n",
              "      <td>536690.000000</td>\n",
              "      <td>5.366900e+05</td>\n",
              "      <td>536690.000000</td>\n",
              "      <td>536690.000000</td>\n",
              "      <td>536690.000000</td>\n",
              "      <td>536690.000000</td>\n",
              "    </tr>\n",
              "    <tr>\n",
              "      <th>mean</th>\n",
              "      <td>421.504276</td>\n",
              "      <td>4.216655e+06</td>\n",
              "      <td>55.283180</td>\n",
              "      <td>2019.000000</td>\n",
              "      <td>16.806382</td>\n",
              "      <td>52.880710</td>\n",
              "    </tr>\n",
              "    <tr>\n",
              "      <th>std</th>\n",
              "      <td>223.975213</td>\n",
              "      <td>2.239748e+06</td>\n",
              "      <td>39.850466</td>\n",
              "      <td>1.414215</td>\n",
              "      <td>101.560515</td>\n",
              "      <td>37.948984</td>\n",
              "    </tr>\n",
              "    <tr>\n",
              "      <th>min</th>\n",
              "      <td>111.000000</td>\n",
              "      <td>1.111014e+06</td>\n",
              "      <td>6.000000</td>\n",
              "      <td>2017.000000</td>\n",
              "      <td>0.000000</td>\n",
              "      <td>0.000000</td>\n",
              "    </tr>\n",
              "    <tr>\n",
              "      <th>25%</th>\n",
              "      <td>321.000000</td>\n",
              "      <td>3.211166e+06</td>\n",
              "      <td>32.000000</td>\n",
              "      <td>2018.000000</td>\n",
              "      <td>0.000000</td>\n",
              "      <td>31.000000</td>\n",
              "    </tr>\n",
              "    <tr>\n",
              "      <th>50%</th>\n",
              "      <td>362.000000</td>\n",
              "      <td>3.622257e+06</td>\n",
              "      <td>48.000000</td>\n",
              "      <td>2019.000000</td>\n",
              "      <td>0.000000</td>\n",
              "      <td>44.000000</td>\n",
              "    </tr>\n",
              "    <tr>\n",
              "      <th>75%</th>\n",
              "      <td>612.000000</td>\n",
              "      <td>6.121167e+06</td>\n",
              "      <td>66.000000</td>\n",
              "      <td>2020.000000</td>\n",
              "      <td>2.000000</td>\n",
              "      <td>64.000000</td>\n",
              "    </tr>\n",
              "    <tr>\n",
              "      <th>max</th>\n",
              "      <td>921.000000</td>\n",
              "      <td>9.212073e+06</td>\n",
              "      <td>582.000000</td>\n",
              "      <td>2021.000000</td>\n",
              "      <td>3791.000000</td>\n",
              "      <td>528.000000</td>\n",
              "    </tr>\n",
              "  </tbody>\n",
              "</table>\n",
              "</div>\n",
              "      <button class=\"colab-df-convert\" onclick=\"convertToInteractive('df-120f64e0-e728-4211-846c-82a1b5aac261')\"\n",
              "              title=\"Convert this dataframe to an interactive table.\"\n",
              "              style=\"display:none;\">\n",
              "        \n",
              "  <svg xmlns=\"http://www.w3.org/2000/svg\" height=\"24px\"viewBox=\"0 0 24 24\"\n",
              "       width=\"24px\">\n",
              "    <path d=\"M0 0h24v24H0V0z\" fill=\"none\"/>\n",
              "    <path d=\"M18.56 5.44l.94 2.06.94-2.06 2.06-.94-2.06-.94-.94-2.06-.94 2.06-2.06.94zm-11 1L8.5 8.5l.94-2.06 2.06-.94-2.06-.94L8.5 2.5l-.94 2.06-2.06.94zm10 10l.94 2.06.94-2.06 2.06-.94-2.06-.94-.94-2.06-.94 2.06-2.06.94z\"/><path d=\"M17.41 7.96l-1.37-1.37c-.4-.4-.92-.59-1.43-.59-.52 0-1.04.2-1.43.59L10.3 9.45l-7.72 7.72c-.78.78-.78 2.05 0 2.83L4 21.41c.39.39.9.59 1.41.59.51 0 1.02-.2 1.41-.59l7.78-7.78 2.81-2.81c.8-.78.8-2.07 0-2.86zM5.41 20L4 18.59l7.72-7.72 1.47 1.35L5.41 20z\"/>\n",
              "  </svg>\n",
              "      </button>\n",
              "      \n",
              "  <style>\n",
              "    .colab-df-container {\n",
              "      display:flex;\n",
              "      flex-wrap:wrap;\n",
              "      gap: 12px;\n",
              "    }\n",
              "\n",
              "    .colab-df-convert {\n",
              "      background-color: #E8F0FE;\n",
              "      border: none;\n",
              "      border-radius: 50%;\n",
              "      cursor: pointer;\n",
              "      display: none;\n",
              "      fill: #1967D2;\n",
              "      height: 32px;\n",
              "      padding: 0 0 0 0;\n",
              "      width: 32px;\n",
              "    }\n",
              "\n",
              "    .colab-df-convert:hover {\n",
              "      background-color: #E2EBFA;\n",
              "      box-shadow: 0px 1px 2px rgba(60, 64, 67, 0.3), 0px 1px 3px 1px rgba(60, 64, 67, 0.15);\n",
              "      fill: #174EA6;\n",
              "    }\n",
              "\n",
              "    [theme=dark] .colab-df-convert {\n",
              "      background-color: #3B4455;\n",
              "      fill: #D2E3FC;\n",
              "    }\n",
              "\n",
              "    [theme=dark] .colab-df-convert:hover {\n",
              "      background-color: #434B5C;\n",
              "      box-shadow: 0px 1px 3px 1px rgba(0, 0, 0, 0.15);\n",
              "      filter: drop-shadow(0px 1px 2px rgba(0, 0, 0, 0.3));\n",
              "      fill: #FFFFFF;\n",
              "    }\n",
              "  </style>\n",
              "\n",
              "      <script>\n",
              "        const buttonEl =\n",
              "          document.querySelector('#df-120f64e0-e728-4211-846c-82a1b5aac261 button.colab-df-convert');\n",
              "        buttonEl.style.display =\n",
              "          google.colab.kernel.accessAllowed ? 'block' : 'none';\n",
              "\n",
              "        async function convertToInteractive(key) {\n",
              "          const element = document.querySelector('#df-120f64e0-e728-4211-846c-82a1b5aac261');\n",
              "          const dataTable =\n",
              "            await google.colab.kernel.invokeFunction('convertToInteractive',\n",
              "                                                     [key], {});\n",
              "          if (!dataTable) return;\n",
              "\n",
              "          const docLinkHtml = 'Like what you see? Visit the ' +\n",
              "            '<a target=\"_blank\" href=https://colab.research.google.com/notebooks/data_table.ipynb>data table notebook</a>'\n",
              "            + ' to learn more about interactive tables.';\n",
              "          element.innerHTML = '';\n",
              "          dataTable['output_type'] = 'display_data';\n",
              "          await google.colab.output.renderOutput(dataTable, element);\n",
              "          const docLink = document.createElement('div');\n",
              "          docLink.innerHTML = docLinkHtml;\n",
              "          element.appendChild(docLink);\n",
              "        }\n",
              "      </script>\n",
              "    </div>\n",
              "  </div>\n",
              "  "
            ]
          },
          "metadata": {},
          "execution_count": 4
        }
      ]
    },
    {
      "cell_type": "markdown",
      "source": [
        "## Kapitalisasi Data Frame"
      ],
      "metadata": {
        "id": "rMEnWQ6U29sc"
      }
    },
    {
      "cell_type": "code",
      "source": [
        "df['nama prodi'].str.isupper().unique()"
      ],
      "metadata": {
        "colab": {
          "base_uri": "https://localhost:8080/"
        },
        "id": "HF1CtFra3As3",
        "outputId": "f472f0d9-8ce7-4366-91b1-e9072712d4b0"
      },
      "execution_count": null,
      "outputs": [
        {
          "output_type": "execute_result",
          "data": {
            "text/plain": [
              "array([ True, False])"
            ]
          },
          "metadata": {},
          "execution_count": 19
        }
      ]
    },
    {
      "cell_type": "markdown",
      "source": [
        "Karena Terdapat variabel yang belum terkapitalisasi maka dilakukan kapitalisasi terlebih dahulu"
      ],
      "metadata": {
        "id": "PsXbiviH4IJ7"
      }
    },
    {
      "cell_type": "code",
      "source": [
        "df['nama prodi']= df['nama prodi'].str.upper()"
      ],
      "metadata": {
        "id": "kSIhs17s4O3G"
      },
      "execution_count": null,
      "outputs": []
    },
    {
      "cell_type": "markdown",
      "source": [
        "Lalu kita cek terlebih dahulu apakah semua sudah terkapitalisasi dengan baik atau belum"
      ],
      "metadata": {
        "id": "mTPZJ7xF499f"
      }
    },
    {
      "cell_type": "code",
      "source": [
        "df['nama prodi'].str.isupper().unique()\n",
        "# Didapati tidak ada masalah kapitalisasi pada data"
      ],
      "metadata": {
        "colab": {
          "base_uri": "https://localhost:8080/"
        },
        "id": "CK1fJWIk4Hg0",
        "outputId": "1586794c-ecb2-4ed1-a0b2-ff52ea892579"
      },
      "execution_count": null,
      "outputs": [
        {
          "output_type": "execute_result",
          "data": {
            "text/plain": [
              "array([ True])"
            ]
          },
          "metadata": {},
          "execution_count": 21
        }
      ]
    },
    {
      "cell_type": "markdown",
      "source": [
        "## Membenahi masalah duplikasi "
      ],
      "metadata": {
        "id": "KkG7TjHL5i0c"
      }
    },
    {
      "cell_type": "code",
      "source": [
        "a='TEKNIK MESIN'\n",
        "df['nama prodi'][df['nama prodi'].str.contains(a)].unique()"
      ],
      "metadata": {
        "colab": {
          "base_uri": "https://localhost:8080/"
        },
        "id": "KPyoIeZZEzW0",
        "outputId": "cfe27c65-16b8-4b5d-f8ad-031b8502bad6"
      },
      "execution_count": null,
      "outputs": [
        {
          "output_type": "execute_result",
          "data": {
            "text/plain": [
              "array(['TEKNIK MESIN', 'PENDIDIKAN VOKASIONAL TEKNIK MESIN',\n",
              "       'PENDIDIKAN TEKNIK MESIN', 'TEKNIK MESIN (NK)',\n",
              "       'PEND TEKNIK MESIN', 'FAKULTAS TEKNIK MESIN & DIRGANTARA (FTMD)',\n",
              "       'PEND. TEKNIK MESIN'], dtype=object)"
            ]
          },
          "metadata": {},
          "execution_count": 8
        }
      ]
    },
    {
      "cell_type": "code",
      "source": [
        "a='TEKNIK MESIN'\n",
        "b='Teknik Mesin'\n",
        "\n",
        "df.loc[df['nama prodi'].str.contains(a), 'nama prodi']= b\n",
        "df['nama prodi'][df['nama prodi'].str.contains(b)].unique()"
      ],
      "metadata": {
        "colab": {
          "base_uri": "https://localhost:8080/"
        },
        "id": "XnmJJj2XtRQr",
        "outputId": "1685a243-818e-4651-85c8-449be267f207"
      },
      "execution_count": null,
      "outputs": [
        {
          "output_type": "execute_result",
          "data": {
            "text/plain": [
              "array(['Teknik Mesin'], dtype=object)"
            ]
          },
          "metadata": {},
          "execution_count": 9
        }
      ]
    },
    {
      "cell_type": "code",
      "source": [
        "a='KEDOKTERAN'\n",
        "df['nama prodi'][df['nama prodi'].str.contains(a)].unique()"
      ],
      "metadata": {
        "colab": {
          "base_uri": "https://localhost:8080/"
        },
        "id": "aJjKfIZTnZoR",
        "outputId": "909248d6-63e6-4f5e-a1f0-66af281eb0d1"
      },
      "execution_count": null,
      "outputs": [
        {
          "output_type": "execute_result",
          "data": {
            "text/plain": [
              "array(['KEDOKTERAN', 'KEDOKTERAN GIGI', 'PEND. KEDOKTERAN',\n",
              "       'KEDOKTERAN HEWAN', 'KEDOKTERAN HEWAN (SIKIA BANYUWANGI)'],\n",
              "      dtype=object)"
            ]
          },
          "metadata": {},
          "execution_count": 10
        }
      ]
    },
    {
      "cell_type": "code",
      "source": [
        "a='KEDOKTERAN HEWAN'\n",
        "b='Kedokteran Hewan'\n",
        "\n",
        "df.loc[df['nama prodi'].str.contains(a), 'nama prodi']= b\n",
        "df['nama prodi'][df['nama prodi'].str.contains(b)].unique()"
      ],
      "metadata": {
        "colab": {
          "base_uri": "https://localhost:8080/"
        },
        "id": "Z_TOwtI0tTHg",
        "outputId": "22d1630c-eb0f-45c6-d998-2a8f56dfe764"
      },
      "execution_count": null,
      "outputs": [
        {
          "output_type": "execute_result",
          "data": {
            "text/plain": [
              "array(['Kedokteran Hewan'], dtype=object)"
            ]
          },
          "metadata": {},
          "execution_count": 11
        }
      ]
    },
    {
      "cell_type": "code",
      "source": [
        "a='DOKTER HEWAN'\n",
        "b='Kedokteran Hewan'\n",
        "\n",
        "df.loc[df['nama prodi'].str.contains(a), 'nama prodi']= b\n",
        "df['nama prodi'][df['nama prodi'].str.contains(b)].unique()"
      ],
      "metadata": {
        "colab": {
          "base_uri": "https://localhost:8080/"
        },
        "id": "Pj4X1xJ1CEoa",
        "outputId": "bc904362-d696-48e4-bb7c-49f8585dc9ed"
      },
      "execution_count": null,
      "outputs": [
        {
          "output_type": "execute_result",
          "data": {
            "text/plain": [
              "array(['Kedokteran Hewan'], dtype=object)"
            ]
          },
          "metadata": {},
          "execution_count": 13
        }
      ]
    },
    {
      "cell_type": "code",
      "source": [
        "a='KEDOKTERAN GIGI'\n",
        "b='Kedokteran Gigi'\n",
        "\n",
        "df.loc[df['nama prodi'].str.contains(a), 'nama prodi']= b\n",
        "df['nama prodi'][df['nama prodi'].str.contains(b)].unique()"
      ],
      "metadata": {
        "colab": {
          "base_uri": "https://localhost:8080/"
        },
        "id": "bW5AXRPFns6u",
        "outputId": "78502e9d-2cc5-4027-e23e-d8232d7d1ce8"
      },
      "execution_count": null,
      "outputs": [
        {
          "output_type": "execute_result",
          "data": {
            "text/plain": [
              "array(['Kedokteran Gigi'], dtype=object)"
            ]
          },
          "metadata": {},
          "execution_count": 12
        }
      ]
    },
    {
      "cell_type": "code",
      "source": [
        "a='KEDOKTERAN'\n",
        "b='Kedokteran'\n",
        "\n",
        "df.loc[df['nama prodi'].str.contains(a), 'nama prodi']= b\n",
        "df['nama prodi'][df['nama prodi'].str.contains(b)].unique()"
      ],
      "metadata": {
        "colab": {
          "base_uri": "https://localhost:8080/"
        },
        "id": "n9BFxmQcny7u",
        "outputId": "cedd3239-d33f-4ee5-f5ad-8044fa2ebbcc"
      },
      "execution_count": null,
      "outputs": [
        {
          "output_type": "execute_result",
          "data": {
            "text/plain": [
              "array(['Kedokteran', 'Kedokteran Gigi', 'Kedokteran Hewan'], dtype=object)"
            ]
          },
          "metadata": {},
          "execution_count": 13
        }
      ]
    },
    {
      "cell_type": "code",
      "source": [
        "a='PSIKOLOGI'\n",
        "df['nama prodi'][df['nama prodi'].str.contains(a)].unique()"
      ],
      "metadata": {
        "colab": {
          "base_uri": "https://localhost:8080/"
        },
        "id": "UEzCuBfeoPCj",
        "outputId": "d4717fb0-e80d-4b9b-e991-8cc43b75f5a7"
      },
      "execution_count": null,
      "outputs": [
        {
          "output_type": "execute_result",
          "data": {
            "text/plain": [
              "array(['PSIKOLOGI', 'ILMU PSIKOLOGI',\n",
              "       'PSIKOLOGI PENDIDIKAN DAN BIMBINGAN'], dtype=object)"
            ]
          },
          "metadata": {},
          "execution_count": 14
        }
      ]
    },
    {
      "cell_type": "code",
      "source": [
        "a='PSIKOLGOI'\n",
        "b='Psikologi'\n",
        "\n",
        "df.loc[df['nama prodi'].str.contains(a), 'nama prodi']= b\n",
        "df['nama prodi'][df['nama prodi'].str.contains(b)].unique()"
      ],
      "metadata": {
        "colab": {
          "base_uri": "https://localhost:8080/"
        },
        "id": "yPgkzaT6QFcb",
        "outputId": "463f37b9-ca91-473d-bc28-e3f881d3ace6"
      },
      "execution_count": null,
      "outputs": [
        {
          "output_type": "execute_result",
          "data": {
            "text/plain": [
              "array([], dtype=object)"
            ]
          },
          "metadata": {},
          "execution_count": 15
        }
      ]
    },
    {
      "cell_type": "code",
      "source": [
        "a='HUKUM'\n",
        "df['nama prodi'][df['nama prodi'].str.contains(a)].unique()\n",
        "#ADA HUKUM SYARIAH, DIBENERIN!!!!"
      ],
      "metadata": {
        "colab": {
          "base_uri": "https://localhost:8080/"
        },
        "id": "sPrfIFSXotXl",
        "outputId": "ffee94f8-88f1-46c1-db28-3a182f9ee1bf"
      },
      "execution_count": null,
      "outputs": [
        {
          "output_type": "execute_result",
          "data": {
            "text/plain": [
              "array(['ILMU HUKUM', 'HUKUM', 'ILMU HUKUM (IH)', 'HUKUM BISNIS SYARIAH',\n",
              "       'HUKUM ADMINISTRASI NEGARA', 'IL. HUKUM',\n",
              "       'ILMU HUKUM (PSDKU KAB. MBD)', 'ILMU HUKUM (PSDKU KAB. ARU)'],\n",
              "      dtype=object)"
            ]
          },
          "metadata": {},
          "execution_count": 16
        }
      ]
    },
    {
      "cell_type": "code",
      "source": [
        "a='HUKUM BISNIS SYARIAH'\n",
        "b='Ilmu Hukum'\n",
        "\n",
        "df.loc[df['nama prodi'].str.contains(a), 'nama prodi']= b\n",
        "df['nama prodi'][df['nama prodi'].str.contains(b)].unique()"
      ],
      "metadata": {
        "id": "v7iV7qeVtBGS"
      },
      "execution_count": null,
      "outputs": []
    },
    {
      "cell_type": "code",
      "source": [
        "a='HUKUM'\n",
        "b='Ilmu Hukum'\n",
        "\n",
        "df.loc[df['nama prodi'].str.contains(a), 'nama prodi']= b\n",
        "df['nama prodi'][df['nama prodi'].str.contains(b)].unique()"
      ],
      "metadata": {
        "colab": {
          "base_uri": "https://localhost:8080/"
        },
        "id": "UtdC0p0sTWPQ",
        "outputId": "9d7291e9-d4c5-41fe-a3c9-8e8eb6fc895c"
      },
      "execution_count": null,
      "outputs": [
        {
          "output_type": "execute_result",
          "data": {
            "text/plain": [
              "array(['Ilmu Hukum'], dtype=object)"
            ]
          },
          "metadata": {},
          "execution_count": 17
        }
      ]
    },
    {
      "cell_type": "code",
      "source": [
        "a='MANAJEMEN'\n",
        "\n",
        "list(df['nama prodi'][df['nama prodi'].str.contains(a)].unique())"
      ],
      "metadata": {
        "colab": {
          "base_uri": "https://localhost:8080/"
        },
        "id": "3kgNcrL6pGXl",
        "outputId": "363aa7c8-3003-4d7a-e1bd-3098e875cf27"
      },
      "execution_count": null,
      "outputs": [
        {
          "output_type": "execute_result",
          "data": {
            "text/plain": [
              "['MANAJEMEN SUMBER DAYA PERAIRAN',\n",
              " 'MANAJEMEN SUMBERDAYA PERAIRAN',\n",
              " 'MANAJEMEN HUTAN',\n",
              " 'TEKNOLOGI & MANAJEMEN PERIKANAN BUDIDAYA',\n",
              " 'MANAJEMEN',\n",
              " 'MANAJEMEN SUMBERDAYA LAHAN',\n",
              " 'TEKNOLOGI & MANAJEMEN PERIKANAN TANGKAP',\n",
              " 'MANAJEMEN SUMBERDAYA AKUATIK (MANAJEMEN SUMBER DAYA PERIKANAN)',\n",
              " 'MANAJEMEN SD PERAIRAN',\n",
              " 'MANAJEMEN (PSDKU GAYO LUES)',\n",
              " 'EKONOMI MANAJEMEN',\n",
              " 'MANAJEMEN (KAMPUS 2 PAYAKUMBUH)',\n",
              " 'MANAJEMEN (NK)',\n",
              " 'MANAJEMEN PERHOTELAN (NK)',\n",
              " 'MANAJEMEN PENDIDIKAN',\n",
              " 'SEKOLAH BISNIS DAN MANAJEMEN (SBM)',\n",
              " 'MANAJEMEN KOMUNIKASI',\n",
              " 'MANAJEMEN RESORT DAN LEISURE',\n",
              " 'MANAJEMEN PEMASARAN PARIWISATA',\n",
              " 'MANAJEMEN INDUSTRI KATERING',\n",
              " 'PENDIDIKAN MANAJEMEN PERKANTORAN',\n",
              " 'MANAJEMEN DAN KEBIJAKAN PUBLIK',\n",
              " 'MANAJEMEN BISNIS',\n",
              " 'MANAJEMEN  (KELAS INTERNASIONAL)',\n",
              " 'MANAJEMEN S1',\n",
              " 'MANAJEMEN (PSDKU MOROWALI)',\n",
              " 'MANAJEMEN (PSDKU TOUNA)',\n",
              " 'MANAJEMEN ADMINISTRASI PERKANTORAN']"
            ]
          },
          "metadata": {},
          "execution_count": 40
        }
      ]
    },
    {
      "cell_type": "markdown",
      "source": [
        "GABISA FILTER BERDASARKAN KATA PERTAMA DAN TERAKHIR :\")\n"
      ],
      "metadata": {
        "id": "fxF5WkPtZ6vr"
      }
    },
    {
      "cell_type": "code",
      "source": [
        "a= 'ADMINISTRASI BISNIS'\n",
        "list(df['nama prodi'][df['nama prodi'].str.contains(a)].unique())"
      ],
      "metadata": {
        "colab": {
          "base_uri": "https://localhost:8080/"
        },
        "id": "7m9WI82dzh6C",
        "outputId": "bcf9b7f7-bc35-475e-f4fc-c0d093d606a8"
      },
      "execution_count": null,
      "outputs": [
        {
          "output_type": "execute_result",
          "data": {
            "text/plain": [
              "['ADMINISTRASI BISNIS',\n",
              " 'ILMU ADMINISTRASI BISNIS',\n",
              " 'ADMINISTRASI BISNIS PSDKU PANGANDARAN']"
            ]
          },
          "metadata": {},
          "execution_count": 21
        }
      ]
    },
    {
      "cell_type": "code",
      "source": [
        "a='ADMINISTRASI BISNIS'\n",
        "b='Administrasi Bisnis'\n",
        "\n",
        "df.loc[df['nama prodi'].str.contains(a),'nama prodi']=b\n",
        "df['nama prodi'][df['nama prodi'].str.contains(b)].unique()"
      ],
      "metadata": {
        "colab": {
          "base_uri": "https://localhost:8080/"
        },
        "id": "wDsiHljyz6mE",
        "outputId": "13da9c5d-1272-43a2-9751-5acfbf1cf3a7"
      },
      "execution_count": null,
      "outputs": [
        {
          "output_type": "execute_result",
          "data": {
            "text/plain": [
              "array(['Administrasi Bisnis'], dtype=object)"
            ]
          },
          "metadata": {},
          "execution_count": 22
        }
      ]
    },
    {
      "cell_type": "code",
      "source": [
        "a= 'ILMU KOMUNIKASI'\n",
        "list(df['nama prodi'][df['nama prodi'].str.contains(a)].unique())"
      ],
      "metadata": {
        "colab": {
          "base_uri": "https://localhost:8080/"
        },
        "id": "Wbn7NhPP01i8",
        "outputId": "0adcb7e7-8a9c-463f-aad8-fae21cc2b789"
      },
      "execution_count": null,
      "outputs": [
        {
          "output_type": "execute_result",
          "data": {
            "text/plain": [
              "['ILMU KOMUNIKASI', 'ILMU KOMUNIKASI PSDKU PANGANDARAN']"
            ]
          },
          "metadata": {},
          "execution_count": 23
        }
      ]
    },
    {
      "cell_type": "code",
      "source": [
        "a='ILMU KOMUNIKASI'\n",
        "b='Ilmu Komunikasi'\n",
        "df.loc[df['nama prodi'].str.contains(a),'nama prodi']=b\n",
        "df['nama prodi'][df['nama prodi'].str.contains(b)].unique()"
      ],
      "metadata": {
        "colab": {
          "base_uri": "https://localhost:8080/"
        },
        "id": "fofZxksx1Mot",
        "outputId": "719888ab-9189-4613-a595-c2f4c919c98d"
      },
      "execution_count": null,
      "outputs": [
        {
          "output_type": "execute_result",
          "data": {
            "text/plain": [
              "array(['Ilmu Komunikasi'], dtype=object)"
            ]
          },
          "metadata": {},
          "execution_count": 24
        }
      ]
    },
    {
      "cell_type": "code",
      "source": [
        "a='AGROTEKNOLOGI'\n",
        "list(df['nama prodi'][df['nama prodi'].str.contains(a)].unique())"
      ],
      "metadata": {
        "colab": {
          "base_uri": "https://localhost:8080/"
        },
        "id": "obnXMpco1qiE",
        "outputId": "6d7bac55-5e21-446a-b8ca-14d5f25a333b"
      },
      "execution_count": null,
      "outputs": [
        {
          "output_type": "execute_result",
          "data": {
            "text/plain": [
              "['AGROTEKNOLOGI',\n",
              " 'AGROTEKNOLOGI (PSDKU GAYO LUES)',\n",
              " 'AGROTEKNOLOGI / AGROEKOTEKNOLOGI',\n",
              " 'AGROTEKNOLOGI (PSDKU MOROWALI)',\n",
              " 'AGROTEKNOLOGI (PSDKU TOUNA)']"
            ]
          },
          "metadata": {},
          "execution_count": 25
        }
      ]
    },
    {
      "cell_type": "code",
      "source": [
        "a='AGROTEKNOLOGI'\n",
        "b='Agroteknologi'\n",
        "\n",
        "df.loc[df['nama prodi'].str.contains(a), 'nama prodi']=b\n",
        "df['nama prodi'][df['nama prodi'].str.contains(b)].unique()"
      ],
      "metadata": {
        "colab": {
          "base_uri": "https://localhost:8080/"
        },
        "id": "Ij0FZ1UK2KSt",
        "outputId": "5529a0f8-3b7f-431c-f9c6-ca364482651c"
      },
      "execution_count": null,
      "outputs": [
        {
          "output_type": "execute_result",
          "data": {
            "text/plain": [
              "array(['Agroteknologi'], dtype=object)"
            ]
          },
          "metadata": {},
          "execution_count": 26
        }
      ]
    },
    {
      "cell_type": "code",
      "source": [
        "a='PETERNAKAN'\n",
        "list(df['nama prodi'][df['nama prodi'].str.contains(a)].unique())"
      ],
      "metadata": {
        "colab": {
          "base_uri": "https://localhost:8080/"
        },
        "id": "MqRMyDTf5dIZ",
        "outputId": "9cc8aa08-a539-4098-a90c-6a430a31ad6f"
      },
      "execution_count": null,
      "outputs": [
        {
          "output_type": "execute_result",
          "data": {
            "text/plain": [
              "['PETERNAKAN',\n",
              " 'PETERNAKAN ( KAMPUS II PAYAKUMBUH)',\n",
              " 'ILMU PETERNAKAN',\n",
              " 'PETERNAKAN PSDKU PANGANDARAN',\n",
              " 'ILMU DAN INDUSTRI PETERNAKAN',\n",
              " 'PETERNAKAN (PSDKU KEDIRI)',\n",
              " 'PETERNAKAN (PSDKU KAB. MBD)']"
            ]
          },
          "metadata": {},
          "execution_count": 27
        }
      ]
    },
    {
      "cell_type": "code",
      "source": [
        "a= 'PETERNAKAN'\n",
        "b='Peternakan'\n",
        "\n",
        "df.loc[df['nama prodi'].str.contains(a)]=b\n",
        "df['nama prodi'][df['nama prodi'].str.contains(b)].unique()"
      ],
      "metadata": {
        "colab": {
          "base_uri": "https://localhost:8080/"
        },
        "id": "yiHDTBHD5qxB",
        "outputId": "37f7b0c6-4e65-402a-fb3e-3ac3436e50d2"
      },
      "execution_count": null,
      "outputs": [
        {
          "output_type": "execute_result",
          "data": {
            "text/plain": [
              "array(['Peternakan'], dtype=object)"
            ]
          },
          "metadata": {},
          "execution_count": 28
        }
      ]
    },
    {
      "cell_type": "code",
      "source": [
        "a='AKUAKULTUR'\n",
        "list(df['nama prodi'][df['nama prodi'].str.contains(a)].unique())"
      ],
      "metadata": {
        "colab": {
          "base_uri": "https://localhost:8080/"
        },
        "id": "xNl_S7GT7upQ",
        "outputId": "ca7f4dc7-3df7-42d5-b880-64f1f87d7ccb"
      },
      "execution_count": null,
      "outputs": [
        {
          "output_type": "execute_result",
          "data": {
            "text/plain": [
              "['AKUAKULTUR',\n",
              " 'AKUAKULTUR (BUDIDAYA PERIKANAN)',\n",
              " 'AKUAKULTUR (PSDKU KEDIRI)',\n",
              " 'AKUAKULTUR (SIKIA BANYUWANGI)']"
            ]
          },
          "metadata": {},
          "execution_count": 29
        }
      ]
    },
    {
      "cell_type": "code",
      "source": [
        "a='AKUAKULTUR'\n",
        "b='Akuakultur'\n",
        "df.loc[df['nama prodi'].str.contains(a)]=b\n",
        "df['nama prodi'][df['nama prodi'].str.contains(b)].unique()"
      ],
      "metadata": {
        "colab": {
          "base_uri": "https://localhost:8080/"
        },
        "id": "dT5giR4h9qVd",
        "outputId": "2650bd83-c709-4507-e3cb-0bac0c4d1419"
      },
      "execution_count": null,
      "outputs": [
        {
          "output_type": "execute_result",
          "data": {
            "text/plain": [
              "array(['Akuakultur'], dtype=object)"
            ]
          },
          "metadata": {},
          "execution_count": 30
        }
      ]
    },
    {
      "cell_type": "code",
      "source": [
        "a='SIPIL'\n",
        "df['nama prodi'][df['nama prodi'].str.contains(a)].unique()"
      ],
      "metadata": {
        "colab": {
          "base_uri": "https://localhost:8080/"
        },
        "id": "hFAGOCHz97wW",
        "outputId": "934c68cb-3873-4d53-9885-7a59018bbe58"
      },
      "execution_count": null,
      "outputs": [
        {
          "output_type": "execute_result",
          "data": {
            "text/plain": [
              "array(['TEKNIK SIPIL',\n",
              "       'FAKULTAS TEKNIK SIPIL & LINGKUNGAN (FTSL)  0 KAMPUS GANESA',\n",
              "       'FAKULTAS TEKNIK SIPIL DAN LINGKUNGAN (FTSL) 0 KAMPUS JATINANGOR',\n",
              "       'TEKNIK SIPIL DAN LINGKUNGAN',\n",
              "       'PENDIDIKAN TEKNIK SIPIL & PERENCANAAN',\n",
              "       'TEKNIK SIPIL (PSDKU MOROWALI)', 'TEKNIK SIPIL (PSDKU TOUNA)'],\n",
              "      dtype=object)"
            ]
          },
          "metadata": {},
          "execution_count": 31
        }
      ]
    },
    {
      "cell_type": "code",
      "source": [
        "a='SIPIL'\n",
        "b='Teknik Sipil'\n",
        "\n",
        "df.loc[df['nama prodi'].str.contains(a)]=b\n",
        "df['nama prodi'][df['nama prodi'].str.contains(b)].unique()"
      ],
      "metadata": {
        "colab": {
          "base_uri": "https://localhost:8080/"
        },
        "id": "SsrSSQPCCQ0s",
        "outputId": "e58a322d-9e42-48c5-f0ba-d8699c3f9f87"
      },
      "execution_count": null,
      "outputs": [
        {
          "output_type": "execute_result",
          "data": {
            "text/plain": [
              "array(['Teknik Sipil'], dtype=object)"
            ]
          },
          "metadata": {},
          "execution_count": 32
        }
      ]
    },
    {
      "cell_type": "code",
      "source": [
        "a='TEKNIK ELEKTRO'\n",
        "\n",
        "list(df['nama prodi'][df['nama prodi'].str.contains(a)].unique())"
      ],
      "metadata": {
        "colab": {
          "base_uri": "https://localhost:8080/"
        },
        "id": "mlaEA3sYCfqN",
        "outputId": "3750dccc-43b2-4f57-d252-602f3e43f379"
      },
      "execution_count": null,
      "outputs": [
        {
          "output_type": "execute_result",
          "data": {
            "text/plain": [
              "['TEKNIK ELEKTRO',\n",
              " 'PENDIDIKAN TEKNIK ELEKTRO',\n",
              " 'PENDIDIKAN TEKNIK ELEKTRONIKA',\n",
              " 'TEKNIK ELEKTRO INDUSTRI (NK)',\n",
              " 'PENDIDIKAN VOKASIONAL TEKNIK ELEKTRO',\n",
              " 'PENDIDIKAN VOKASIONAL TEKNIK ELEKTRONIKA',\n",
              " 'PEND. TEKNIK ELEKTRO',\n",
              " 'PEND. TEKNIK ELEKTRONIKA']"
            ]
          },
          "metadata": {},
          "execution_count": 33
        }
      ]
    },
    {
      "cell_type": "code",
      "source": [
        "a='TEKNIK ELEKTRO'\n",
        "b='Teknik Elektro'\n",
        "\n",
        "df.loc[df['nama prodi'].str.contains(a)]=b\n",
        "df['nama prodi'][df['nama prodi'].str.contains(b)].unique()"
      ],
      "metadata": {
        "colab": {
          "base_uri": "https://localhost:8080/"
        },
        "id": "Z4zYfwozFkUE",
        "outputId": "f3ddd7e2-1552-4020-bfff-dfe67b32bebc"
      },
      "execution_count": null,
      "outputs": [
        {
          "output_type": "execute_result",
          "data": {
            "text/plain": [
              "array(['Teknik Elektro'], dtype=object)"
            ]
          },
          "metadata": {},
          "execution_count": 34
        }
      ]
    },
    {
      "cell_type": "code",
      "source": [
        "a='TEKNIK INFORMATIKA'\n",
        "df['nama prodi'][df['nama prodi'].str.contains(a)].unique()"
      ],
      "metadata": {
        "colab": {
          "base_uri": "https://localhost:8080/"
        },
        "id": "Z2CCq9hwF-4J",
        "outputId": "5df297cc-5cff-4e0e-dcc2-cc53e0ab236d"
      },
      "execution_count": null,
      "outputs": [
        {
          "output_type": "execute_result",
          "data": {
            "text/plain": [
              "array(['TEKNIK INFORMATIKA', 'PEND. TEKNIK INFORMATIKA DAN KOMPUTER',\n",
              "       'PENDIDIKAN TEKNIK INFORMATIKA & KOMPUTER',\n",
              "       'PEND. TEKNIK INFORMATIKA & KOMPUTER',\n",
              "       'PENDIDIKAN TEKNIK INFORMATIKA'], dtype=object)"
            ]
          },
          "metadata": {},
          "execution_count": 35
        }
      ]
    },
    {
      "cell_type": "code",
      "source": [
        "a='TEKNIK INFORMATIKA'\n",
        "b='Teknik Informatika'\n",
        "df.loc[df['nama prodi'].str.contains(a)]=b\n",
        "df['nama prodi'][df['nama prodi'].str.contains(b)].unique()"
      ],
      "metadata": {
        "colab": {
          "base_uri": "https://localhost:8080/"
        },
        "id": "zunqo2lOGIDH",
        "outputId": "3405fd6e-14d9-423e-a66e-f280298de9f1"
      },
      "execution_count": null,
      "outputs": [
        {
          "output_type": "execute_result",
          "data": {
            "text/plain": [
              "array(['Teknik Informatika'], dtype=object)"
            ]
          },
          "metadata": {},
          "execution_count": 36
        }
      ]
    },
    {
      "cell_type": "code",
      "source": [
        "a='INFORMATIKA'\n",
        "b='Teknik Informatika'\n",
        "df.loc[df['nama prodi'].str.contains(a)]=b\n",
        "df['nama prodi'][df['nama prodi'].str.contains(b)].unique()"
      ],
      "metadata": {
        "colab": {
          "base_uri": "https://localhost:8080/"
        },
        "id": "8bouuwwtHZEH",
        "outputId": "036863ff-aea6-491c-8c87-a30aef46b6dd"
      },
      "execution_count": null,
      "outputs": [
        {
          "output_type": "execute_result",
          "data": {
            "text/plain": [
              "array(['Teknik Informatika'], dtype=object)"
            ]
          },
          "metadata": {},
          "execution_count": 37
        }
      ]
    },
    {
      "cell_type": "code",
      "source": [
        "a='ARSITEKTUR'\n",
        "df['nama prodi'][df['nama prodi'].str.contains(a)].unique()"
      ],
      "metadata": {
        "colab": {
          "base_uri": "https://localhost:8080/"
        },
        "id": "Bqr8GvTCGcNJ",
        "outputId": "e75647d3-ad14-49f7-ebf9-dcb07ae13541"
      },
      "execution_count": null,
      "outputs": [
        {
          "output_type": "execute_result",
          "data": {
            "text/plain": [
              "array(['ARSITEKTUR', 'TEKNIK ARSITEKTUR', 'ARSITEKTUR LANSKAP',\n",
              "       'ARSITEKTUR INTERIOR',\n",
              "       'SEK. ARSITEKTUR, PERENC & PENGEMB KEBIJAKAN',\n",
              "       'SEK. ARSITEKTUR, PERENC & PENGEMB KEBIJAKAN (SAPPK) 0 KAMPUS CIREBON',\n",
              "       'PENDIDIKAN TEKNIK ARSITEKTUR', 'ARSITEKTUR LANSEKAP'],\n",
              "      dtype=object)"
            ]
          },
          "metadata": {},
          "execution_count": 38
        }
      ]
    },
    {
      "cell_type": "code",
      "source": [
        "a='ARSITEKTUR'\n",
        "b='Arsitektur'\n",
        "df.loc[df['nama prodi'].str.contains(a)]=b\n",
        "df['nama prodi'][df['nama prodi'].str.contains(b)].unique()\n"
      ],
      "metadata": {
        "colab": {
          "base_uri": "https://localhost:8080/"
        },
        "id": "aseiXjSdHjn8",
        "outputId": "244c59a0-3fc4-46fd-c222-d47eab2d8377"
      },
      "execution_count": null,
      "outputs": [
        {
          "output_type": "execute_result",
          "data": {
            "text/plain": [
              "array(['Arsitektur'], dtype=object)"
            ]
          },
          "metadata": {},
          "execution_count": 39
        }
      ]
    },
    {
      "cell_type": "markdown",
      "source": [
        "## Mengembalikan Kapitalisasi Dataset"
      ],
      "metadata": {
        "id": "4b2QlFDDKh5G"
      }
    },
    {
      "cell_type": "code",
      "source": [
        "df['nama prodi'].str.isupper().unique()"
      ],
      "metadata": {
        "colab": {
          "base_uri": "https://localhost:8080/"
        },
        "id": "ov_57ZLGKlrc",
        "outputId": "97adf9fc-1ffb-455e-c70c-1f0de2c486de"
      },
      "execution_count": null,
      "outputs": [
        {
          "output_type": "execute_result",
          "data": {
            "text/plain": [
              "array([ True])"
            ]
          },
          "metadata": {},
          "execution_count": 123
        }
      ]
    },
    {
      "cell_type": "code",
      "source": [
        "df['nama prodi']=df['nama prodi'].str.upper()"
      ],
      "metadata": {
        "id": "NwZRhTEfKoEF"
      },
      "execution_count": null,
      "outputs": []
    },
    {
      "cell_type": "code",
      "source": [
        "df['nama prodi'].str.isupper().unique()"
      ],
      "metadata": {
        "colab": {
          "base_uri": "https://localhost:8080/"
        },
        "id": "juZKfb-yKyJO",
        "outputId": "39b2ad89-3fe1-4d09-9420-0669b39b9b80"
      },
      "execution_count": null,
      "outputs": [
        {
          "output_type": "execute_result",
          "data": {
            "text/plain": [
              "array([ True])"
            ]
          },
          "metadata": {},
          "execution_count": 122
        }
      ]
    },
    {
      "cell_type": "code",
      "source": [
        "a='TEKNIK'\n",
        "\n",
        "list(df['nama prodi'][df['nama prodi'].str.contains(a)].unique())"
      ],
      "metadata": {
        "colab": {
          "base_uri": "https://localhost:8080/"
        },
        "id": "Jwzn5QtfF50Z",
        "outputId": "7df1ad50-ea88-462a-8b10-66bada1636a2"
      },
      "execution_count": null,
      "outputs": [
        {
          "output_type": "execute_result",
          "data": {
            "text/plain": [
              "['TEKNIK KIMIA',\n",
              " 'TEKNIK PERTANIAN',\n",
              " 'TEKNIK INDUSTRI',\n",
              " 'TEKNIK GEOFISIKA',\n",
              " 'TEKNIK PERTAMBANGAN',\n",
              " 'TEKNIK GEOLOGI',\n",
              " 'TEKNIK KOMPUTER',\n",
              " 'TEKNIK MATERIAL',\n",
              " 'TEKNIK LINGKUNGAN',\n",
              " 'KETEKNIKAN PERTANIAN',\n",
              " 'PENDIDIKAN TEKNIK BANGUNAN',\n",
              " 'PENDIDIKAN TEKNIK OTOMOTIF',\n",
              " 'TEKNIK ARSITEK',\n",
              " 'TEKNIK PERTANIAN DAN BIOSISTEM',\n",
              " 'TEKNIK PERTAMBANGAN (NK)',\n",
              " 'TEKNIK GEODESI',\n",
              " 'TEKNIK GEOMATIKA',\n",
              " 'TEKNIK FISIKA',\n",
              " 'TEKNIK KELAUTAN',\n",
              " 'TEKNIK BIOSISTEM',\n",
              " 'TEKNIK SISTEM ENERGI',\n",
              " 'TEKNIK METALURGI',\n",
              " 'TEKNIK METALURGI & MATERIAL',\n",
              " 'TEKNIK PERKAPALAN',\n",
              " 'TEKNIK BIOMEDIS',\n",
              " 'FAK. TEKNIK PERTAMB. & PERMINYAKAN (FTTM)',\n",
              " 'TEKNIK NUKLIR',\n",
              " 'PENDIDIKAN TEKNIK MEKATRONIKA',\n",
              " 'TEKNIK MANUFAKTUR',\n",
              " 'TEKNIK PERMINYAKAN',\n",
              " 'TEKNIK KONSTRUKSI PERKAPALAN',\n",
              " 'TEKNIK PENGAIRAN',\n",
              " 'TEKNIK INDUSTRI PERTANIAN',\n",
              " 'TEKNIK SISTEM PERKAPALAN',\n",
              " 'TEKNIK TRANSPORTASI LAUT',\n",
              " 'TEKNIK BIOMEDIK',\n",
              " 'PEND. TEKNIK BANGUNAN',\n",
              " 'TEKNIK MEKATRONIKA',\n",
              " 'TEKNIK MATERIAL DAN METALURGI',\n",
              " 'TEKNIK PENGEMB. WILAYAH KOTA',\n",
              " 'PEND. TEKNIK OTOMOTIF',\n",
              " 'TEKNIK PERENCANAAN WILAYAH DAN KOTA',\n",
              " 'TEKNIK GEO FISIKA',\n",
              " 'TEKNIK SISTIM PERKAPALAN',\n",
              " 'TEKNIK  MESIN',\n",
              " 'PENDIDIKAN TEKNIK BUSANA',\n",
              " 'PENDIDIKAN TEKNIK BOGA']"
            ]
          },
          "metadata": {},
          "execution_count": 115
        }
      ]
    }
  ]
}